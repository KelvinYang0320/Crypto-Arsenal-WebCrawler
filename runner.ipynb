{
 "cells": [
  {
   "cell_type": "markdown",
   "metadata": {},
   "source": [
    "# Crypto Arsenal Crawler\n",
    "## Initialize the Driver\n",
    "* You can write you emall address and password to a txt file, `email-passward.txt`.\n",
    "```\n",
    "email_address\n",
    "password\n",
    "```"
   ]
  },
  {
   "cell_type": "code",
   "execution_count": 1,
   "metadata": {},
   "outputs": [],
   "source": [
    "from Fintech import crypto_arsenal_crawler\n",
    "f = open('email-password.txt', 'r')\n",
    "f =[i.rstrip() for i in f.readlines()]  \n",
    "run = crypto_arsenal_crawler(f[0], f[1])"
   ]
  },
  {
   "cell_type": "markdown",
   "metadata": {},
   "source": [
    "## Show all strategies you have\n",
    "`run.openStrategySpace()`"
   ]
  },
  {
   "cell_type": "code",
   "execution_count": 2,
   "metadata": {},
   "outputs": [
    {
     "name": "stdout",
     "output_type": "stream",
     "text": [
      "['MACross in JS copied (752)', 'MACross in PY copied (752)', 'RSI14', 'MACross', 'MACD', 'BBANDS', 'RSI14v2', 'BBANDSv2', 'RSI14v2-copy', 'chishen', 'KDJ', 'MA', 'AROON', 'MA_Final_ADA', 'MA_Final_BTC', 'MA_Final_ETH', 'chishen_ADA', 'RSI14v3', 'RSI14v3_BTC', 'RSIV3Modify', 'RSI14v4']\n"
     ]
    }
   ],
   "source": [
    "print(run.openStrategySpace())"
   ]
  },
  {
   "cell_type": "markdown",
   "metadata": {},
   "source": [
    "## Backtesting\n",
    "`run.backtesting(name, start_date, end_date, exchange=\"BINANCE\", pairs=\"BTC-USDT\", amount=100000)`"
   ]
  },
  {
   "cell_type": "code",
   "execution_count": 3,
   "metadata": {},
   "outputs": [
    {
     "name": "stdout",
     "output_type": "stream",
     "text": [
      "\n",
      " ETH-USDT 150000\n",
      "\n",
      "[Backtest MACross in PY copied (752)]\n",
      "Period: 2021/5/14 2021/5/28\n",
      "StrategyMACross in PY copied (752) : 1\n",
      "Backtesting start...\n",
      "Period: 2021/5/15 2021/5/29\n",
      "StrategyMACross in PY copied (752) : 1\n",
      "Backtesting start...\n",
      "Period: 2021/5/16 2021/5/30\n",
      "StrategyMACross in PY copied (752) : 1\n",
      "Backtesting start...\n"
     ]
    }
   ],
   "source": [
    "import time\n",
    "\n",
    "strategies = [\"MACross in PY copied (752)\"]\n",
    "\n",
    "pair_dict ={\n",
    "    \"ETH-USDT\":150000,\n",
    "}\n",
    "\n",
    "for key in pair_dict:\n",
    "    print(\"\\n\",key, pair_dict[key])\n",
    "    for s in strategies:\n",
    "        print(\"\\n[Backtest \" +s+\"]\")\n",
    "        for i in range(14, 30-14+1):\n",
    "            run.backtesting(s, \"2021/5/\"+str(i), \"2021/5/\"+str(i+14), pairs=key, amount=pair_dict[key])\n",
    "            time.sleep(0.5)"
   ]
  },
  {
   "cell_type": "markdown",
   "metadata": {},
   "source": [
    "## Show all records of backtesting\n",
    "Make sure you have waited for enough time since you just start run the backtest.\\\n",
    "`run.get_backtesting_records(name)`"
   ]
  },
  {
   "cell_type": "code",
   "execution_count": 4,
   "metadata": {},
   "outputs": [
    {
     "name": "stdout",
     "output_type": "stream",
     "text": [
      "MACross in PY copied (752)\n",
      "   #編號   交易所    貨幣對                         回測期間    ROI\n",
      "0  62907  BINANCE  ETH-USDT  2021-05-1600:00-2021-05-3000:00  -0.98\n",
      "1  62906  BINANCE  ETH-USDT  2021-05-1500:00-2021-05-2900:00  -1.16\n",
      "2  62905  BINANCE  ETH-USDT  2021-05-1400:00-2021-05-2800:00  -0.53\n"
     ]
    }
   ],
   "source": [
    "import pandas as pd\n",
    "def show_records(name):\n",
    "    his = run.get_backtesting_records(name)\n",
    "    data = {\n",
    "        '#編號': [],\n",
    "        '交易所': [],\n",
    "        '貨幣對': [],\n",
    "        '回測期間': [],\n",
    "        'ROI': []\n",
    "    }\n",
    "    for i in his:\n",
    "        tmp = i.text.split()\n",
    "        data['#編號'].append(tmp[0])\n",
    "        data['交易所'].append(tmp[1])\n",
    "        data['貨幣對'].append(tmp[2])\n",
    "        data['回測期間'].append(tmp[3]+tmp[4]+tmp[5]+tmp[6]+tmp[7])\n",
    "        data['ROI'].append(tmp[8])\n",
    "\n",
    "    pd.set_option('display.unicode.ambiguous_as_wide', True)\n",
    "    pd.set_option('display.unicode.east_asian_width', True)\n",
    "\n",
    "    df = pd.DataFrame(data)\n",
    "    \n",
    "    print(name)\n",
    "    print(df.head(9))\n",
    "\n",
    "strategies = [\"MACross in PY copied (752)\"]\n",
    "for s in strategies:\n",
    "    show_records(s)"
   ]
  },
  {
   "cell_type": "markdown",
   "metadata": {},
   "source": [
    "## Remove all records of backtesting\n",
    "`run.rm_backtesting_records(name)`"
   ]
  },
  {
   "cell_type": "code",
   "execution_count": 5,
   "metadata": {},
   "outputs": [
    {
     "name": "stdout",
     "output_type": "stream",
     "text": [
      "StrategyMACross in PY copied (752) : 1\n",
      "Done!\n"
     ]
    }
   ],
   "source": [
    "strategies = [\"MACross in PY copied (752)\"]\n",
    "for s in strategies:\n",
    "    run.rm_backtesting_records(s)"
   ]
  },
  {
   "cell_type": "code",
   "execution_count": null,
   "metadata": {},
   "outputs": [],
   "source": []
  }
 ],
 "metadata": {
  "kernelspec": {
   "display_name": "Python 3",
   "language": "python",
   "name": "python3"
  },
  "language_info": {
   "codemirror_mode": {
    "name": "ipython",
    "version": 3
   },
   "file_extension": ".py",
   "mimetype": "text/x-python",
   "name": "python",
   "nbconvert_exporter": "python",
   "pygments_lexer": "ipython3",
   "version": "3.7.9"
  }
 },
 "nbformat": 4,
 "nbformat_minor": 4
}
